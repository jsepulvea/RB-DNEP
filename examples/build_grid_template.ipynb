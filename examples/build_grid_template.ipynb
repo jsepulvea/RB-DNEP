{
 "cells": [
  {
   "cell_type": "markdown",
   "id": "a67ccfb1-23a0-4597-be82-4a529479eb31",
   "metadata": {},
   "source": [
    "### Import modules and set IO files"
   ]
  },
  {
   "cell_type": "code",
   "execution_count": 1,
   "id": "1572e9f4-1d7e-4a9f-aeb3-fe7b14655d83",
   "metadata": {},
   "outputs": [],
   "source": [
    "import os\n",
    "import shilps.powersystems as ps  # https://github.com/jsepulvea/shilps\n",
    "from rb_dnep import DataLEC, ProblemData\n",
    "\n",
    "OUTPUT_FOLDER = \"example_data\"\n",
    "\n",
    "if not os.path.exists(OUTPUT_FOLDER):\n",
    "    os.makedirs(OUTPUT_FOLDER)\n"
   ]
  },
  {
   "cell_type": "markdown",
   "id": "41860436-801a-4f3e-ae07-b9774b3b0965",
   "metadata": {},
   "source": [
    "### Instantiate a ProblemData object"
   ]
  },
  {
   "cell_type": "code",
   "execution_count": 2,
   "id": "e31112b3-39af-4282-9b30-77b9b092cb53",
   "metadata": {},
   "outputs": [],
   "source": [
    "pdata = ProblemData()"
   ]
  },
  {
   "cell_type": "markdown",
   "id": "dc85a4e6-ed17-44e1-b86d-ae26b92efdb9",
   "metadata": {},
   "source": [
    "### Load standard IEEE grid"
   ]
  },
  {
   "cell_type": "code",
   "execution_count": 3,
   "id": "695d0739-bfb4-4e19-a6a0-c246c86bbf91",
   "metadata": {},
   "outputs": [],
   "source": [
    "dsdata = ps.case_ieee4bus()  # Distribution system data\n",
    "\n",
    "# Create new branch to be expanded\n",
    "dsdata.add(ps.InvBranch(busf=1, bust=2, r_pu=0.0162, x_pu=0.006,\n",
    "    b_pu=0.0, snom_MVA=999.0, cost_investment = 1000.0, cost_maintenance = 0.0))\n",
    "\n",
    "\n",
    "pdata.host_grid = dsdata"
   ]
  },
  {
   "cell_type": "markdown",
   "id": "5dcbd44a-6367-46b6-9279-4daccb4ee7f1",
   "metadata": {},
   "source": [
    "### Add LECs"
   ]
  },
  {
   "cell_type": "code",
   "execution_count": 4,
   "id": "58c077c1-b81d-45ab-953f-5dc1a833ad8e",
   "metadata": {},
   "outputs": [],
   "source": [
    "# Create LEC 1\n",
    "lec1 = DataLEC(host_bus_idx=1, name=\"LEC 1\")\n",
    "\n",
    "# Add demand\n",
    "lec1_demand = dsdata.demands[2].copy()  # Copy\n",
    "lec1_demand.index = None\n",
    "\n",
    "lec1.add(lec1_demand.scale(0.2, inplace=True))\n",
    "\n",
    "# Add existing generator\n",
    "dg1 = ps.PVGenerator(bus=0, snom_MVA= 0.5,\n",
    "                    pmax_MW=ps.TSParameter(default=0.5))\n",
    "\n",
    "idx_new_dg1 = lec1.add(dg1)\n",
    "\n",
    "# Add non-existent generator for investment\n",
    "dginv1 = ps.InvGenerator(\n",
    "    bus=0, snom_MVA= 0.5,\n",
    "    pmax_MW=ps.TSParameter(default=0.5),\n",
    "    cost_investment=1000.0,\n",
    "    cost_maintenance=50.0\n",
    ")\n",
    "\n",
    "idx_new_dg2 = lec1.add(dginv1)\n",
    "\n",
    "# Create LEC 2\n",
    "lec2 = lec1.copy()\n",
    "lec2.name = \"LEC 2\"\n",
    "lec2.host_bus_idx = 2\n",
    "\n",
    "# Reinforcement capacity options\n",
    "lec1.reinforcement = [0.1, 0.2, 0.3]\n",
    "lec2.reinforcement = [0.1, 0.2, 0.3]\n",
    "\n",
    "# Add LECs to problem data\n",
    "pdata.add_lec(lec1, 1)\n",
    "pdata.add_lec(lec2, 2)"
   ]
  },
  {
   "cell_type": "markdown",
   "id": "d3a42d04-3e7c-4147-82f6-c6e95452dce2",
   "metadata": {},
   "source": [
    "### Save to file"
   ]
  },
  {
   "cell_type": "code",
   "execution_count": 7,
   "id": "c8b5a367-381e-48ac-a81f-26ad67b38027",
   "metadata": {},
   "outputs": [],
   "source": [
    "# Set default time series names\n",
    "pdata.set_default_tsnames()\n",
    "\n",
    "# Save to file\n",
    "prefix_name = os.path.join(OUTPUT_FOLDER, \"toy_4bus_2LECs_template\")\n",
    "pdata_path = f\"{prefix_name}.json\"\n",
    "pdata.write(pdata_path)"
   ]
  }
 ],
 "metadata": {
  "kernelspec": {
   "display_name": "Python 3 (ipykernel)",
   "language": "python",
   "name": "python3"
  },
  "language_info": {
   "codemirror_mode": {
    "name": "ipython",
    "version": 3
   },
   "file_extension": ".py",
   "mimetype": "text/x-python",
   "name": "python",
   "nbconvert_exporter": "python",
   "pygments_lexer": "ipython3",
   "version": "3.12.5"
  }
 },
 "nbformat": 4,
 "nbformat_minor": 5
}
