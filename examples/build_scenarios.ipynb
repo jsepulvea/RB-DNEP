{
 "cells": [
  {
   "cell_type": "markdown",
   "id": "ab645f28-75f3-4e8e-aab8-caf622a92a92",
   "metadata": {},
   "source": [
    "### Import \"standard\" libraries"
   ]
  },
  {
   "cell_type": "code",
   "execution_count": 10,
   "id": "c2ea6bfc-e80b-45ee-8723-8764df96f928",
   "metadata": {},
   "outputs": [],
   "source": [
    "# Import \"standard\" libraries\n",
    "import os, random\n",
    "import pandas as pd\n",
    "import numpy as np\n",
    "\n",
    "# Import rb_dnep objects\n",
    "from rb_dnep import DataLEC, ProblemData, TimeConfig, DataTimeSeries\n",
    "from rb_dnep.instances.time_series_generation import generate_demand_df, generate_pv_power_df\n",
    "\n",
    "# Set input-output files\n",
    "GRID_TEMPLATE_FILE = \"example_data/toy_4bus_2LECs_template.json\"\n",
    "OUTPUT_FOLDER = \"example_data/toy_4bus_2LECs\""
   ]
  },
  {
   "cell_type": "markdown",
   "id": "abec23db-f6cd-4abf-99fd-c3a2f14046a0",
   "metadata": {},
   "source": [
    "### Load grid template"
   ]
  },
  {
   "cell_type": "code",
   "execution_count": 11,
   "id": "d1d876fa-152e-4f5d-8309-1708c1188e62",
   "metadata": {},
   "outputs": [],
   "source": [
    "# Load grid template\n",
    "pdata = ProblemData.read(GRID_TEMPLATE_FILE)"
   ]
  },
  {
   "cell_type": "markdown",
   "id": "b4123fb4-ba36-44a6-ab79-2228761252af",
   "metadata": {},
   "source": [
    "## Create Time Series data"
   ]
  },
  {
   "cell_type": "markdown",
   "id": "9f5baaff-38ce-4502-9182-5d6b6454f1bd",
   "metadata": {},
   "source": [
    "### 1. Build the time configuration data"
   ]
  },
  {
   "cell_type": "code",
   "execution_count": 12,
   "id": "c5aeafb9-9720-4fb3-a594-c69d4147696e",
   "metadata": {},
   "outputs": [],
   "source": [
    "start = '2024-10-01'\n",
    "end = '2034-09-30'\n",
    "sampling_frequency = '15min'\n",
    "scenario_length = '1D'\n",
    "\n",
    "# Generate scenario_starts\n",
    "n_scenarios_total = 25\n",
    "all_days = pd.date_range(start, end, freq='D')\n",
    "random_days = random.sample(list(all_days), min(n_scenarios_total, len(all_days)))\n",
    "random_days = sorted(random_days)\n",
    "\n",
    "time_config = TimeConfig(\n",
    "    start = start,\n",
    "    end = end,\n",
    "    sampling_frequency = sampling_frequency,\n",
    "    scenario_length = scenario_length,\n",
    "    scenario_starts = random_days\n",
    ")"
   ]
  },
  {
   "cell_type": "markdown",
   "id": "9badf6e6-1663-4c3d-adae-91bae4f5f28d",
   "metadata": {},
   "source": [
    "### 2. Generate time series data"
   ]
  },
  {
   "cell_type": "code",
   "execution_count": 13,
   "id": "6e7198f6-fbbf-4edf-accd-3bd1cf739c59",
   "metadata": {},
   "outputs": [
    {
     "data": {
      "text/plain": [
       "['ds_p_MW0',\n",
       " 'ds_q_MVAr0',\n",
       " 'ds_p_MW1',\n",
       " 'ds_q_MVAr1',\n",
       " 'ds_p_MW2',\n",
       " 'ds_q_MVAr2',\n",
       " 'lec1_p_MW0',\n",
       " 'lec1_q_MVAr0',\n",
       " 'lec1_pmax_MW0',\n",
       " 'lec_inv_1_pmax_MW0',\n",
       " 'lec2_p_MW0',\n",
       " 'lec2_q_MVAr0',\n",
       " 'lec2_pmax_MW0',\n",
       " 'lec_inv_2_pmax_MW0']"
      ]
     },
     "execution_count": 13,
     "metadata": {},
     "output_type": "execute_result"
    }
   ],
   "source": [
    "scenarios = time_config.scenarios\n",
    "\n",
    "tsdata = DataTimeSeries(\n",
    "    tsnames=pdata.tsnames(), time_config=time_config)\n",
    "\n",
    "# Print the time series names\n",
    "pdata.tsnames()"
   ]
  },
  {
   "cell_type": "code",
   "execution_count": 15,
   "id": "7a3462ad-0074-41f0-881c-8a61dec83c1a",
   "metadata": {},
   "outputs": [
    {
     "name": "stdout",
     "output_type": "stream",
     "text": [
      "Time series structure:\n",
      "----------------------\n",
      "\n",
      "host_grid:\n",
      "  Demand.p_MW:\n",
      "  - ds_p_MW0\n",
      "  - ds_p_MW1\n",
      "  - ds_p_MW2\n",
      "  - lec1_p_MW0\n",
      "  - lec2_p_MW0\n",
      "  Demand.q_MVAr:\n",
      "  - ds_q_MVAr0\n",
      "  - ds_q_MVAr1\n",
      "  - ds_q_MVAr2\n",
      "  - lec1_q_MVAr0\n",
      "  - lec2_q_MVAr0\n",
      "  Generator.pmax_MW:\n",
      "  - lec1_pmax_MW0\n",
      "  - lec2_pmax_MW0\n",
      "lecs:\n",
      "  1:\n",
      "    Demand.p_MW:\n",
      "    - ds_p_MW0\n",
      "    - ds_p_MW1\n",
      "    - ds_p_MW2\n",
      "    - lec1_p_MW0\n",
      "    - lec2_p_MW0\n",
      "    Demand.q_MVAr:\n",
      "    - ds_q_MVAr0\n",
      "    - ds_q_MVAr1\n",
      "    - ds_q_MVAr2\n",
      "    - lec1_q_MVAr0\n",
      "    - lec2_q_MVAr0\n",
      "    Generator.pmax_MW:\n",
      "    - lec1_pmax_MW0\n",
      "    - lec2_pmax_MW0\n",
      "  2:\n",
      "    Demand.p_MW:\n",
      "    - ds_p_MW0\n",
      "    - ds_p_MW1\n",
      "    - ds_p_MW2\n",
      "    - lec1_p_MW0\n",
      "    - lec2_p_MW0\n",
      "    Demand.q_MVAr:\n",
      "    - ds_q_MVAr0\n",
      "    - ds_q_MVAr1\n",
      "    - ds_q_MVAr2\n",
      "    - lec1_q_MVAr0\n",
      "    - lec2_q_MVAr0\n",
      "    Generator.pmax_MW:\n",
      "    - lec1_pmax_MW0\n",
      "    - lec2_pmax_MW0\n",
      "\n"
     ]
    }
   ],
   "source": [
    "pdata.display_time_series_structure()"
   ]
  },
  {
   "cell_type": "markdown",
   "id": "e423fd6f-31fc-4ac7-9d81-5d04965a4ea9",
   "metadata": {},
   "source": [
    "### The following is an example of generating random time series"
   ]
  },
  {
   "cell_type": "code",
   "execution_count": 16,
   "id": "4c715056-4563-41a9-84c2-8c8f1b0dd4d9",
   "metadata": {},
   "outputs": [],
   "source": [
    "\n",
    "# Generate demand timeseries host_grid\n",
    "l_demands = list(pdata.host_grid.demands.keys())\n",
    "l_demands_p_tsnames = [dem.p_MW.tsname for dem in pdata.host_grid.demands.values()]\n",
    "\n",
    "for scenario in scenarios:\n",
    "\n",
    "    sce_start = time_config.scenario_starts[scenario]\n",
    "    sce_end = sce_start + time_config.scenario_length - time_config.sampling_frequency\n",
    "    sampling_frequency = time_config.sampling_frequency\n",
    "    \n",
    "    df_d_hostgrid = generate_demand_df(\n",
    "        sce_start, sce_end, sampling_frequency, l_demands_p_tsnames)\n",
    "\n",
    "    # Scale demand\n",
    "    scaling_factors = np.asarray([\n",
    "        pdata.host_grid.demands[i].pnom_MW for i in l_demands])\n",
    "\n",
    "    aux_max = np.max(df_d_hostgrid.values, axis=0)\n",
    "    np.divide(df_d_hostgrid.values, aux_max, out=df_d_hostgrid.values)\n",
    "    np.multiply(df_d_hostgrid.values, scaling_factors, out=df_d_hostgrid.values)\n",
    "\n",
    "    tsdata[scenario].loc[:,l_demands_p_tsnames] = df_d_hostgrid.loc[:, l_demands_p_tsnames].values\n",
    "    tsdata[scenario].index = pd.date_range(sce_start, sce_end, freq=time_config.sampling_frequency)\n",
    "    \n",
    "\n",
    "# Generate demand timeseries LECs\n",
    "\n",
    "for scenario in scenarios:\n",
    "    sce_start = time_config.scenario_starts[scenario]\n",
    "    sce_end = sce_start + time_config.scenario_length - time_config.sampling_frequency\n",
    "    sampling_frequency = time_config.sampling_frequency\n",
    "    \n",
    "    for lec_idx, lec in pdata.lecs.items():\n",
    "        l_lec_demands_p_tsnames = [\n",
    "            f\"lec{lec_idx}_p_MW{demand}\" for demand in list(lec.demands.keys())]\n",
    "        \n",
    "        l_demands = list(lec.demands.keys())\n",
    "        df_d_lec = generate_demand_df(\n",
    "            sce_start, sce_end, sampling_frequency, l_lec_demands_p_tsnames)\n",
    "\n",
    "        # Scale demand\n",
    "        scaling_factors = np.asarray([\n",
    "            lec.demands[i].pnom_MW for i in l_demands])\n",
    "\n",
    "        aux_max = np.max(df_d_lec.values, axis=0)\n",
    "        np.divide(df_d_lec.values, aux_max, out=df_d_lec.values)\n",
    "        np.multiply(df_d_lec.values, scaling_factors, out=df_d_lec.values)\n",
    "\n",
    "        tsdata[scenario].loc[:, l_lec_demands_p_tsnames] = df_d_lec.loc[:, l_lec_demands_p_tsnames].values\n",
    "        tsdata[scenario].index = pd.date_range(sce_start, sce_end, freq=time_config.sampling_frequency)\n",
    "\n",
    "# Generate PV timeseries LECs\n",
    "for scenario in scenarios:\n",
    "    sce_start = time_config.scenario_starts[scenario]\n",
    "    sce_end = sce_start + time_config.scenario_length - time_config.sampling_frequency\n",
    "    sampling_frequency = time_config.sampling_frequency\n",
    "\n",
    "    for lec_idx, lec in pdata.lecs.items():\n",
    "        l_lec_generators_p_tsnames = [f\"lec{lec_idx}_p_MW{generator}\" for generator in list(lec.generators.keys())]\n",
    "        l_generators = list(lec.generators.keys())\n",
    "\n",
    "        df_pv_lec = generate_pv_power_df(sce_start, sce_end, sampling_frequency, l_lec_generators_p_tsnames)\n",
    "\n",
    "        # Scale PV\n",
    "        scaling_factors = np.asarray([\n",
    "            lec.generators[i].snom_MVA for i in l_generators])\n",
    "\n",
    "        aux_max = np.max(df_pv_lec.values, axis=0)\n",
    "        np.divide(df_pv_lec.values, aux_max, out=df_pv_lec.values)\n",
    "        np.multiply(df_pv_lec.values, scaling_factors, out=df_pv_lec.values)\n",
    "\n",
    "        tsdata[scenario].loc[:, l_lec_generators_p_tsnames] = df_pv_lec.loc[:, l_lec_generators_p_tsnames].values\n",
    "        tsdata[scenario].index = pd.date_range(sce_start, sce_end, freq=time_config.sampling_frequency)\n",
    "\n",
    "\n",
    "pdata.tsdata = tsdata\n",
    "pdata.time_config = time_config\n",
    "\n",
    "# Write to files\n",
    "# --------------\n",
    "if not os.path.exists(OUTPUT_FOLDER):\n",
    "    os.makedirs(OUTPUT_FOLDER)\n",
    "\n",
    "prefix_name = os.path.join(OUTPUT_FOLDER, \"toy_4bus_2LECs\")\n",
    "system_data_path = f\"{prefix_name}.json\"\n",
    "tsdata_prefix = f\"{prefix_name}_tsdata\"\n",
    "\n",
    "pdata.write(system_data_path, tsdata_prefix)\n"
   ]
  }
 ],
 "metadata": {
  "kernelspec": {
   "display_name": "Python 3 (ipykernel)",
   "language": "python",
   "name": "python3"
  },
  "language_info": {
   "codemirror_mode": {
    "name": "ipython",
    "version": 3
   },
   "file_extension": ".py",
   "mimetype": "text/x-python",
   "name": "python",
   "nbconvert_exporter": "python",
   "pygments_lexer": "ipython3",
   "version": "3.12.5"
  }
 },
 "nbformat": 4,
 "nbformat_minor": 5
}
